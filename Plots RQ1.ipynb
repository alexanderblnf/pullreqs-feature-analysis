{
 "cells": [
  {
   "cell_type": "code",
   "execution_count": 8,
   "metadata": {
    "collapsed": true
   },
   "outputs": [],
   "source": [
    "import datetime\n",
    "from datetime import date\n",
    "from datetime import timedelta\n",
    "from dateutil.relativedelta import relativedelta\n",
    "import matplotlib.pyplot as plt\n",
    "import numpy as np\n",
    "import pandas as pd\n",
    "import matplotlib\n",
    "\n",
    "matplotlib.style.use('ggplot')\n",
    "\n",
    "time = date(2015, 9, 1)\n",
    "dates = []\n",
    "\n",
    "# pullreqs_projects = [372255, 492388, 632728, 732718, 797571] - original repos\n",
    "# commits_projects = [3958607, 4724221, 5880049, 6946607, 7805924] - original repos\n",
    "\n",
    "pullreqs_projects = [446317, 582182, 737071, 915642, 918838]\n",
    "commits_projects = [4899998, 5886598, 7182281, 8579487, 9507377]\n",
    "\n",
    "pullreqs_total = [2551993, 3545700, 3990916, 4721799, 5226891] \n",
    "commits_total = [70507249, 83521187, 100402292, 116432587, 131569247]\n",
    "\n",
    "def scale(x):\n",
    "    return float(x) / 1000000\n",
    "\n",
    "pullreqs_total_scaled = map(scale, pullreqs_total)\n",
    "commits_total_scaled = map(scale, commits_total)\n",
    "\n",
    "pullreqs_projects_scaled = map(scale, pullreqs_projects)\n",
    "commits_projects_scaled = map(scale, commits_projects)\n",
    "\n",
    "for i in range(5):\n",
    "    dates.append(time)\n",
    "    time = time + relativedelta(months=6)\n",
    "\n",
    "percentages = []\n",
    "percentages_total = []\n",
    "for i in range(0, 5):\n",
    "        percentages.append((pullreqs_projects[i] / float(commits_projects[i])) * 100)\n",
    "        percentages_total.append((pullreqs_total[i] / float(commits_total[i])) * 100)"
   ]
  },
  {
   "cell_type": "code",
   "execution_count": 9,
   "metadata": {
    "collapsed": true,
    "scrolled": true
   },
   "outputs": [],
   "source": [
    "def smoothen(values, times, ylabel, title, filename):\n",
    "    timestamps = pd.to_datetime(times)\n",
    "    ts = pd.Series(values, index=timestamps)\n",
    "    ts[ts==-1] = np.nan\n",
    "    ts = ts.resample('T').mean()\n",
    "    fig = plt.figure()\n",
    "    ax = ts.interpolate(method='cubic', order=3).plot(label='Series', title=title)\n",
    "    ax.set_ylabel(ylabel)\n",
    "    plt.tight_layout()\n",
    "    fig.savefig(filename, dpi=300)\n",
    "#     plt.show()"
   ]
  },
  {
   "cell_type": "code",
   "execution_count": 10,
   "metadata": {
    "collapsed": true
   },
   "outputs": [],
   "source": [
    "# smoothen(commits_total_scaled, dates, 'no of commits (millions)', 'Evolution of the number of commits', 'no_commits.png')\n",
    "# smoothen(pullreqs_total_scaled, dates, 'no of pullreqs (millions)', 'Evolution of the number of pull requests', 'no_pullreqs.png')\n",
    "# smoothen(percentages_total, dates, 'percentage of pullreqs', 'Percentage of pull requests', 'percentage_total.png')\n",
    "    \n",
    "smoothen(commits_projects_scaled, dates, 'no of active projects (millions)', 'Active projects', 'commits_projects.png')\n",
    "smoothen(pullreqs_projects_scaled, dates, 'no of active projects (millions)', 'Active projects with pull requests', 'pullreqs_projects.png')\n",
    "smoothen(percentages, dates, 'percentage of pullreqs projects', 'Percentage of projects that use pull requests', 'percentage_projects.png')\n",
    "plt.close(\"all\")"
   ]
  },
  {
   "cell_type": "code",
   "execution_count": null,
   "metadata": {
    "collapsed": true
   },
   "outputs": [],
   "source": []
  }
 ],
 "metadata": {
  "kernelspec": {
   "display_name": "Python 2",
   "language": "python",
   "name": "python2"
  },
  "language_info": {
   "codemirror_mode": {
    "name": "ipython",
    "version": 2
   },
   "file_extension": ".py",
   "mimetype": "text/x-python",
   "name": "python",
   "nbconvert_exporter": "python",
   "pygments_lexer": "ipython2",
   "version": "2.7.13"
  }
 },
 "nbformat": 4,
 "nbformat_minor": 2
}
