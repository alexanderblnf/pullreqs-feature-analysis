{
 "cells": [
  {
   "cell_type": "markdown",
   "metadata": {},
   "source": [
    "# Predicting pull request merges"
   ]
  },
  {
   "cell_type": "markdown",
   "metadata": {},
   "source": [
    "In this example, we will attempt to predict whether a pull request will be merged. The dataset we will be using is a newer version of the one published at MSR 2014 by [Gousios and Zaidman](http://gousios.org/bibliography/GZ14.html),\n",
    "available [here](https://drive.google.com/open?id=0B9Rx0uhucsroV196OEp5VGhzSkU). The dataset comes in CSV format.\n",
    "\n",
    "For this task, we will be using PySpark and the Spark ML library, to demonstrate\n",
    "how nicely Spark integrates with the extremely rich Python Data Science/Big Data ecosystem.\n",
    "\n",
    "We begin our exploration by importing typical libraries from the Python world:\n",
    "\n",
    "* [Pandas](https://pandas.pydata.org) Implements data frame functionality, which enables us to manipulate data in a tabular format using our well-trusted higher-order functions.\n",
    "* [MatPlotLib](https://matplotlib.org) Implements programmatic plotting functionality, acts as the backend for all graphics utilities in Python \n",
    "* [GGPlot](http://ggplot.yhathq.com) A principled way for creating statistical plots, based on the [Grammar for Graphics](http://www.springer.com/gp/book/9780387245447)"
   ]
  },
  {
   "cell_type": "code",
   "execution_count": 18,
   "metadata": {},
   "outputs": [],
   "source": [
    "from ggplot import *\n",
    "from pyspark.sql.types import *\n",
    "from pyspark.sql.functions import *\n",
    "from copy import deepcopy\n",
    "\n",
    "import pandas as pd\n",
    "\n",
    "%matplotlib inline\n",
    "import matplotlib.pyplot as plt\n",
    "import numpy as np"
   ]
  },
  {
   "cell_type": "markdown",
   "metadata": {},
   "source": [
    "In contrast to our previous examples, we will be using higher level components; one of them is the Spark CSV reader. This allows us to read a CSV file into a Spark Dataframe in one line; most importantly, it can automatically infer the schema (data types) from our CSV, which saves us lots of boring work! "
   ]
  },
  {
   "cell_type": "code",
   "execution_count": 2,
   "metadata": {
    "collapsed": true
   },
   "outputs": [],
   "source": [
    "df = sqlContext.read.csv(\"dataset_v2.csv\", \n",
    "                         sep=\",\", \n",
    "                         header=True, \n",
    "                         inferSchema=True).cache()\n",
    "aux = df.toPandas()\n",
    "names = []\n",
    "for i, row in aux.groupby('project_name').size().iteritems():\n",
    "    if row > 50:\n",
    "        names.append(i)\n",
    "        \n",
    "aux = aux.loc[aux['project_name'].isin(names)]\n",
    "aux['mergetime_minutes'] = aux['mergetime_minutes'].fillna(0.0);\n",
    "aux['merged'] = aux['mergetime_minutes'].where(aux['mergetime_minutes'].isnull() | aux['mergetime_minutes'] == 0.0, True).fillna(False).astype(bool)\n",
    "df = sqlContext.createDataFrame(aux)\n",
    "sqlContext.registerDataFrameAsTable(df, \"pullreqs\")"
   ]
  },
  {
   "cell_type": "markdown",
   "metadata": {},
   "source": [
    "## Exploring the dataset"
   ]
  },
  {
   "cell_type": "markdown",
   "metadata": {},
   "source": [
    "We are also using Spark's `SQLContext` instead of our typical `SparkContext`. This allows us to run SQL queries directly on top our CSV data! Spark will in the background distribute the processing load on all workers. \n",
    "\n",
    "PySpark is integrated to the [Pydata](http://pydata.org) ecosystem; this allows us to use the `toPandas()` function,\n",
    "which will convert a distributed Spark DataFrame to a local Pandas dataframe. The are many legitimate reasons for\n",
    "which this is a good thing: we can for example use the data for plotting or apply some [sckit-learn](http://scikit-learn.org/) machine learning algorith on top of it. In our case, we exploit the fact that Jupyter, our notebook system, knows about Pandas dataframes to print the results locally."
   ]
  },
  {
   "cell_type": "markdown",
   "metadata": {},
   "source": [
    "#### What are the columns in our CSV file?"
   ]
  },
  {
   "cell_type": "code",
   "execution_count": 20,
   "metadata": {
    "scrolled": true
   },
   "outputs": [
    {
     "name": "stdout",
     "output_type": "stream",
     "text": [
      "root\n",
      " |-- pull_req_id: long (nullable = true)\n",
      " |-- project_name: string (nullable = true)\n",
      " |-- lang: string (nullable = true)\n",
      " |-- github_id: long (nullable = true)\n",
      " |-- created_at: long (nullable = true)\n",
      " |-- merged_at: double (nullable = true)\n",
      " |-- closed_at: long (nullable = true)\n",
      " |-- lifetime_minutes: long (nullable = true)\n",
      " |-- mergetime_minutes: double (nullable = true)\n",
      " |-- merged_using: string (nullable = true)\n",
      " |-- conflict: boolean (nullable = true)\n",
      " |-- forward_links: boolean (nullable = true)\n",
      " |-- intra_branch: boolean (nullable = true)\n",
      " |-- description_length: long (nullable = true)\n",
      " |-- num_commits: long (nullable = true)\n",
      " |-- num_commits_open: long (nullable = true)\n",
      " |-- num_pr_comments: long (nullable = true)\n",
      " |-- num_issue_comments: long (nullable = true)\n",
      " |-- num_commit_comments: long (nullable = true)\n",
      " |-- num_comments: long (nullable = true)\n",
      " |-- num_commit_comments_open: long (nullable = true)\n",
      " |-- num_participants: long (nullable = true)\n",
      " |-- files_added_open: long (nullable = true)\n",
      " |-- files_deleted_open: long (nullable = true)\n",
      " |-- files_modified_open: long (nullable = true)\n",
      " |-- files_changed_open: long (nullable = true)\n",
      " |-- src_files_open: long (nullable = true)\n",
      " |-- doc_files_open: long (nullable = true)\n",
      " |-- other_files_open: long (nullable = true)\n",
      " |-- files_added: long (nullable = true)\n",
      " |-- files_deleted: long (nullable = true)\n",
      " |-- files_modified: long (nullable = true)\n",
      " |-- files_changed: long (nullable = true)\n",
      " |-- src_files: long (nullable = true)\n",
      " |-- doc_files: long (nullable = true)\n",
      " |-- other_files: long (nullable = true)\n",
      " |-- src_churn_open: long (nullable = true)\n",
      " |-- test_churn_open: long (nullable = true)\n",
      " |-- tests_added_open: long (nullable = true)\n",
      " |-- tests_deleted_open: long (nullable = true)\n",
      " |-- tests_added: long (nullable = true)\n",
      " |-- tests_deleted: long (nullable = true)\n",
      " |-- src_churn: long (nullable = true)\n",
      " |-- test_churn: long (nullable = true)\n",
      " |-- new_entropy: double (nullable = true)\n",
      " |-- entropy_diff: double (nullable = true)\n",
      " |-- commits_on_files_touched: long (nullable = true)\n",
      " |-- commits_to_hottest_file: long (nullable = true)\n",
      " |-- hotness: double (nullable = true)\n",
      " |-- at_mentions_description: long (nullable = true)\n",
      " |-- at_mentions_comments: long (nullable = true)\n",
      " |-- perc_external_contribs: double (nullable = true)\n",
      " |-- sloc: long (nullable = true)\n",
      " |-- test_lines: long (nullable = true)\n",
      " |-- test_cases: long (nullable = true)\n",
      " |-- asserts: long (nullable = true)\n",
      " |-- stars: long (nullable = true)\n",
      " |-- team_size: long (nullable = true)\n",
      " |-- workload: long (nullable = true)\n",
      " |-- ci: string (nullable = true)\n",
      " |-- requester: string (nullable = true)\n",
      " |-- closer: string (nullable = true)\n",
      " |-- merger: string (nullable = true)\n",
      " |-- prev_pullreqs: long (nullable = true)\n",
      " |-- requester_succ_rate: double (nullable = true)\n",
      " |-- followers: long (nullable = true)\n",
      " |-- main_team_member: boolean (nullable = true)\n",
      " |-- social_connection: boolean (nullable = true)\n",
      " |-- prior_interaction_issue_events: long (nullable = true)\n",
      " |-- prior_interaction_issue_comments: long (nullable = true)\n",
      " |-- prior_interaction_pr_events: long (nullable = true)\n",
      " |-- prior_interaction_pr_comments: long (nullable = true)\n",
      " |-- prior_interaction_commits: long (nullable = true)\n",
      " |-- prior_interaction_commit_comments: long (nullable = true)\n",
      " |-- first_response: long (nullable = true)\n",
      " |-- merged: boolean (nullable = true)\n",
      "\n"
     ]
    }
   ],
   "source": [
    "df.printSchema()\n",
    "# df.groupBy('project_name').count().toPandas()\n",
    "# df.select('mergetime_minutes').where('mergetime_minutes is null').toPandas()"
   ]
  },
  {
   "cell_type": "code",
   "execution_count": 25,
   "metadata": {},
   "outputs": [
    {
     "name": "stdout",
     "output_type": "stream",
     "text": [
      "+--------------------+----------+\n",
      "|        merged_using|occurences|\n",
      "+--------------------+----------+\n",
      "|        merge_button|      7883|\n",
      "|   commits_in_master|      7109|\n",
      "|             unknown|       335|\n",
      "|  merged_in_comments|        23|\n",
      "|commit_sha_in_com...|        19|\n",
      "|     fixes_in_commit|         8|\n",
      "+--------------------+----------+\n",
      "\n"
     ]
    }
   ],
   "source": [
    "sqlContext.sql(\"\"\"select merged_using, count(*) as occurences \n",
    "                  from pullreqs \n",
    "                  group by merged_using \n",
    "                  order by occurences desc\"\"\").show()"
   ]
  },
  {
   "cell_type": "markdown",
   "metadata": {},
   "source": [
    "The above SQL query can be also defined programmatically. At the background, Spark is compiling SQL to a series of calls like the ones we show below."
   ]
  },
  {
   "cell_type": "code",
   "execution_count": 42,
   "metadata": {},
   "outputs": [
    {
     "name": "stdout",
     "output_type": "stream",
     "text": [
      "+--------------------+-------------------+\n",
      "|        merged_using|count(merged_using)|\n",
      "+--------------------+-------------------+\n",
      "|        merge_button|             182424|\n",
      "|   commits_in_master|             105378|\n",
      "|             unknown|               7318|\n",
      "|commit_sha_in_com...|               1128|\n",
      "|  merged_in_comments|                307|\n",
      "|     fixes_in_commit|                 39|\n",
      "+--------------------+-------------------+\n",
      "\n"
     ]
    }
   ],
   "source": [
    "df.\\\n",
    "    groupBy(df.merged_using).\\\n",
    "    agg({'merged_using': 'count'}).\\\n",
    "    orderBy(desc(\"count(merged_using)\")).\\\n",
    "    show()"
   ]
  },
  {
   "cell_type": "markdown",
   "metadata": {},
   "source": [
    "#### How many projects and languages are there?"
   ]
  },
  {
   "cell_type": "code",
   "execution_count": 7,
   "metadata": {},
   "outputs": [
    {
     "name": "stdout",
     "output_type": "stream",
     "text": [
      "+------------+\n",
      "|num_projects|\n",
      "+------------+\n",
      "|         749|\n",
      "+------------+\n",
      "\n"
     ]
    }
   ],
   "source": [
    "sqlContext.sql(\"\"\"select count(distinct(project_name)) as num_projects \n",
    "                  from pullreqs\"\"\").show()"
   ]
  },
  {
   "cell_type": "markdown",
   "metadata": {},
   "source": [
    "Ok, but how many projects are there per programming language? Let's do a quick SQL query:"
   ]
  },
  {
   "cell_type": "code",
   "execution_count": 6,
   "metadata": {},
   "outputs": [
    {
     "name": "stdout",
     "output_type": "stream",
     "text": [
      "+----------+------------+\n",
      "|      lang|num_projects|\n",
      "+----------+------------+\n",
      "|JavaScript|         255|\n",
      "|    Python|         192|\n",
      "|      Java|         159|\n",
      "|      Ruby|         128|\n",
      "|     Scala|          15|\n",
      "+----------+------------+\n",
      "\n"
     ]
    }
   ],
   "source": [
    "sqlContext.sql(\"\"\"select lang, count(*) as num_projects \n",
    "                  from (\n",
    "                      select distinct(project_name), lang \n",
    "                      from pullreqs\n",
    "                  ) as project_langs\n",
    "                  group by lang\n",
    "                  order by num_projects desc\"\"\").show()"
   ]
  },
  {
   "cell_type": "markdown",
   "metadata": {},
   "source": [
    "We can do exactly the same query using Dataframe transformations:"
   ]
  },
  {
   "cell_type": "code",
   "execution_count": 24,
   "metadata": {},
   "outputs": [
    {
     "name": "stdout",
     "output_type": "stream",
     "text": [
      "+----------+-----------+\n",
      "|      lang|count(lang)|\n",
      "+----------+-----------+\n",
      "|      Java|         41|\n",
      "|    Python|         25|\n",
      "|      Ruby|         12|\n",
      "|JavaScript|          2|\n",
      "+----------+-----------+\n",
      "\n"
     ]
    }
   ],
   "source": [
    "df.select(df[\"project_name\"], df[\"lang\"]).\\\n",
    "    distinct().\\\n",
    "    groupBy(df[\"lang\"]).\\\n",
    "    agg({\"lang\":\"count\"}).\\\n",
    "    orderBy(\"count(lang)\", ascending=False).\\\n",
    "    show()"
   ]
  },
  {
   "cell_type": "markdown",
   "metadata": {},
   "source": [
    "#### Time to close pull requests (external contributors) - box"
   ]
  },
  {
   "cell_type": "code",
   "execution_count": 24,
   "metadata": {},
   "outputs": [
    {
     "data": {
      "image/png": "[encoded data removed]",
      "text/plain": [
       "<matplotlib.figure.Figure at 0x1c20a58250>"
      ]
     },
     "metadata": {},
     "output_type": "display_data"
    }
   ],
   "source": [
    "ax = df.select('mergetime_minutes').\\\n",
    "    where('mergetime_minutes > 0.0 and main_team_member = false').\\\n",
    "    toPandas().\\\n",
    "    apply(np.log)\n",
    "    \n",
    "ax2 = df.select('mergetime_minutes').\\\n",
    "    where('mergetime_minutes > 0.0 and main_team_member = true').\\\n",
    "    toPandas().\\\n",
    "    apply(np.log)\n",
    "\n",
    "\n",
    "plt.boxplot([ax, ax2])\n",
    "plt.xticks([1, 2], ['external', 'core'])\n",
    "plt.title('Merge time external contributors vs core members')\n",
    "\n",
    "plt.savefig('box.png', dpi=400)\n",
    "    "
   ]
  },
  {
   "cell_type": "markdown",
   "metadata": {},
   "source": [
    "#### What is the PR distribution per project?"
   ]
  },
  {
   "cell_type": "code",
   "execution_count": 26,
   "metadata": {},
   "outputs": [
    {
     "data": {
      "image/png": "[encoded data removed]",
      "text/plain": [
       "<matplotlib.figure.Figure at 0x1c25074450>"
      ]
     },
     "metadata": {},
     "output_type": "display_data"
    },
    {
     "data": {
      "text/plain": [
       "<ggplot: (287474357)>"
      ]
     },
     "execution_count": 26,
     "metadata": {},
     "output_type": "execute_result"
    }
   ],
   "source": [
    "r = sqlContext.sql(\"\"\"select project_name, count(*) as num_prs\n",
    "                  from pullreqs\n",
    "                  group by project_name having num_prs < 1000\"\"\").toPandas()\n",
    "r['num_prs'] = r['num_prs'] / 1000;\n",
    "r\n",
    "\n",
    "ggplot(aes(x='num_prs'), data = r) + geom_histogram(binwidth = .01)\n",
    "# ggplot(aes(x = 'num_prs'), data=r) + \\\n",
    "#     geom_histogram(binwidth=.001) + \\\n",
    "#     scale_x_log() + \\\n",
    "#     ylab(\"Num projects\") + xlab(\"Num PRs\")"
   ]
  },
  {
   "cell_type": "markdown",
   "metadata": {},
   "source": [
    "#### How much time does it take to close a PR?"
   ]
  },
  {
   "cell_type": "markdown",
   "metadata": {},
   "source": [
    "As we can see, the majority (75%) of all pull requests are closed in less than 2 days, while 50% are closed in just 6 hours."
   ]
  },
  {
   "cell_type": "code",
   "execution_count": 3,
   "metadata": {},
   "outputs": [
    {
     "data": {
      "text/html": [
       "<div>\n",
       "<style>\n",
       "    .dataframe thead tr:only-child th {\n",
       "        text-align: right;\n",
       "    }\n",
       "\n",
       "    .dataframe thead th {\n",
       "        text-align: left;\n",
       "    }\n",
       "\n",
       "    .dataframe tbody tr th {\n",
       "        vertical-align: top;\n",
       "    }\n",
       "</style>\n",
       "<table border=\"1\" class=\"dataframe\">\n",
       "  <thead>\n",
       "    <tr style=\"text-align: right;\">\n",
       "      <th></th>\n",
       "      <th>mergetime_minutes</th>\n",
       "    </tr>\n",
       "  </thead>\n",
       "  <tbody>\n",
       "    <tr>\n",
       "      <th>count</th>\n",
       "      <td>13136.000000</td>\n",
       "    </tr>\n",
       "    <tr>\n",
       "      <th>mean</th>\n",
       "      <td>5.744971</td>\n",
       "    </tr>\n",
       "    <tr>\n",
       "      <th>std</th>\n",
       "      <td>24.975450</td>\n",
       "    </tr>\n",
       "    <tr>\n",
       "      <th>min</th>\n",
       "      <td>0.000694</td>\n",
       "    </tr>\n",
       "    <tr>\n",
       "      <th>50%</th>\n",
       "      <td>0.619792</td>\n",
       "    </tr>\n",
       "    <tr>\n",
       "      <th>60%</th>\n",
       "      <td>0.921528</td>\n",
       "    </tr>\n",
       "    <tr>\n",
       "      <th>74%</th>\n",
       "      <td>2.739444</td>\n",
       "    </tr>\n",
       "    <tr>\n",
       "      <th>80%</th>\n",
       "      <td>4.048611</td>\n",
       "    </tr>\n",
       "    <tr>\n",
       "      <th>90%</th>\n",
       "      <td>11.204861</td>\n",
       "    </tr>\n",
       "    <tr>\n",
       "      <th>95%</th>\n",
       "      <td>22.791146</td>\n",
       "    </tr>\n",
       "    <tr>\n",
       "      <th>max</th>\n",
       "      <td>880.227083</td>\n",
       "    </tr>\n",
       "  </tbody>\n",
       "</table>\n",
       "</div>"
      ],
      "text/plain": [
       "       mergetime_minutes\n",
       "count       13136.000000\n",
       "mean            5.744971\n",
       "std            24.975450\n",
       "min             0.000694\n",
       "50%             0.619792\n",
       "60%             0.921528\n",
       "74%             2.739444\n",
       "80%             4.048611\n",
       "90%            11.204861\n",
       "95%            22.791146\n",
       "max           880.227083"
      ]
     },
     "execution_count": 3,
     "metadata": {},
     "output_type": "execute_result"
    }
   ],
   "source": [
    "df.select('mergetime_minutes').where('mergetime_minutes > 0.0').toPandas().apply(lambda x: x / 1440).describe(percentiles=[0.6, 0.74, 0.8, 0.9, 0.95])"
   ]
  },
  {
   "cell_type": "markdown",
   "metadata": {},
   "source": [
    "#### Main team members"
   ]
  },
  {
   "cell_type": "code",
   "execution_count": 4,
   "metadata": {},
   "outputs": [
    {
     "data": {
      "text/html": [
       "<div>\n",
       "<style>\n",
       "    .dataframe thead tr:only-child th {\n",
       "        text-align: right;\n",
       "    }\n",
       "\n",
       "    .dataframe thead th {\n",
       "        text-align: left;\n",
       "    }\n",
       "\n",
       "    .dataframe tbody tr th {\n",
       "        vertical-align: top;\n",
       "    }\n",
       "</style>\n",
       "<table border=\"1\" class=\"dataframe\">\n",
       "  <thead>\n",
       "    <tr style=\"text-align: right;\">\n",
       "      <th></th>\n",
       "      <th>mergetime_minutes</th>\n",
       "    </tr>\n",
       "  </thead>\n",
       "  <tbody>\n",
       "    <tr>\n",
       "      <th>count</th>\n",
       "      <td>11572.000000</td>\n",
       "    </tr>\n",
       "    <tr>\n",
       "      <th>mean</th>\n",
       "      <td>4.347929</td>\n",
       "    </tr>\n",
       "    <tr>\n",
       "      <th>std</th>\n",
       "      <td>17.160871</td>\n",
       "    </tr>\n",
       "    <tr>\n",
       "      <th>min</th>\n",
       "      <td>0.000694</td>\n",
       "    </tr>\n",
       "    <tr>\n",
       "      <th>50%</th>\n",
       "      <td>0.547222</td>\n",
       "    </tr>\n",
       "    <tr>\n",
       "      <th>60%</th>\n",
       "      <td>0.872222</td>\n",
       "    </tr>\n",
       "    <tr>\n",
       "      <th>74%</th>\n",
       "      <td>2.255931</td>\n",
       "    </tr>\n",
       "    <tr>\n",
       "      <th>80%</th>\n",
       "      <td>3.807639</td>\n",
       "    </tr>\n",
       "    <tr>\n",
       "      <th>90%</th>\n",
       "      <td>9.061181</td>\n",
       "    </tr>\n",
       "    <tr>\n",
       "      <th>95%</th>\n",
       "      <td>18.607049</td>\n",
       "    </tr>\n",
       "    <tr>\n",
       "      <th>max</th>\n",
       "      <td>880.227083</td>\n",
       "    </tr>\n",
       "  </tbody>\n",
       "</table>\n",
       "</div>"
      ],
      "text/plain": [
       "       mergetime_minutes\n",
       "count       11572.000000\n",
       "mean            4.347929\n",
       "std            17.160871\n",
       "min             0.000694\n",
       "50%             0.547222\n",
       "60%             0.872222\n",
       "74%             2.255931\n",
       "80%             3.807639\n",
       "90%             9.061181\n",
       "95%            18.607049\n",
       "max           880.227083"
      ]
     },
     "execution_count": 4,
     "metadata": {},
     "output_type": "execute_result"
    }
   ],
   "source": [
    "df.select('mergetime_minutes').\\\n",
    "    where('mergetime_minutes > 0.0 and main_team_member = true').\\\n",
    "    toPandas().apply(lambda x: x / 1440).\\\n",
    "    describe(percentiles=[0.6, 0.74, 0.8, 0.9, 0.95])"
   ]
  },
  {
   "cell_type": "markdown",
   "metadata": {},
   "source": [
    "#### Not main team members"
   ]
  },
  {
   "cell_type": "code",
   "execution_count": 5,
   "metadata": {},
   "outputs": [
    {
     "data": {
      "text/html": [
       "<div>\n",
       "<style>\n",
       "    .dataframe thead tr:only-child th {\n",
       "        text-align: right;\n",
       "    }\n",
       "\n",
       "    .dataframe thead th {\n",
       "        text-align: left;\n",
       "    }\n",
       "\n",
       "    .dataframe tbody tr th {\n",
       "        vertical-align: top;\n",
       "    }\n",
       "</style>\n",
       "<table border=\"1\" class=\"dataframe\">\n",
       "  <thead>\n",
       "    <tr style=\"text-align: right;\">\n",
       "      <th></th>\n",
       "      <th>mergetime_minutes</th>\n",
       "    </tr>\n",
       "  </thead>\n",
       "  <tbody>\n",
       "    <tr>\n",
       "      <th>count</th>\n",
       "      <td>1564.000000</td>\n",
       "    </tr>\n",
       "    <tr>\n",
       "      <th>mean</th>\n",
       "      <td>16.081655</td>\n",
       "    </tr>\n",
       "    <tr>\n",
       "      <th>std</th>\n",
       "      <td>54.226121</td>\n",
       "    </tr>\n",
       "    <tr>\n",
       "      <th>min</th>\n",
       "      <td>0.000694</td>\n",
       "    </tr>\n",
       "    <tr>\n",
       "      <th>50%</th>\n",
       "      <td>1.057986</td>\n",
       "    </tr>\n",
       "    <tr>\n",
       "      <th>60%</th>\n",
       "      <td>2.130139</td>\n",
       "    </tr>\n",
       "    <tr>\n",
       "      <th>74%</th>\n",
       "      <td>6.796431</td>\n",
       "    </tr>\n",
       "    <tr>\n",
       "      <th>80%</th>\n",
       "      <td>11.614167</td>\n",
       "    </tr>\n",
       "    <tr>\n",
       "      <th>90%</th>\n",
       "      <td>32.137361</td>\n",
       "    </tr>\n",
       "    <tr>\n",
       "      <th>95%</th>\n",
       "      <td>79.802569</td>\n",
       "    </tr>\n",
       "    <tr>\n",
       "      <th>max</th>\n",
       "      <td>694.952778</td>\n",
       "    </tr>\n",
       "  </tbody>\n",
       "</table>\n",
       "</div>"
      ],
      "text/plain": [
       "       mergetime_minutes\n",
       "count        1564.000000\n",
       "mean           16.081655\n",
       "std            54.226121\n",
       "min             0.000694\n",
       "50%             1.057986\n",
       "60%             2.130139\n",
       "74%             6.796431\n",
       "80%            11.614167\n",
       "90%            32.137361\n",
       "95%            79.802569\n",
       "max           694.952778"
      ]
     },
     "execution_count": 5,
     "metadata": {},
     "output_type": "execute_result"
    }
   ],
   "source": [
    "df.select('mergetime_minutes').\\\n",
    "    where('mergetime_minutes > 0.0 and main_team_member = false').\\\n",
    "    toPandas().apply(lambda x: x / 1440).\\\n",
    "    describe(percentiles=[0.6, 0.74, 0.8, 0.9, 0.95])"
   ]
  },
  {
   "cell_type": "markdown",
   "metadata": {},
   "source": [
    "#### Close time for unmerged pull requests"
   ]
  },
  {
   "cell_type": "code",
   "execution_count": 6,
   "metadata": {},
   "outputs": [
    {
     "data": {
      "text/html": [
       "<div>\n",
       "<style>\n",
       "    .dataframe thead tr:only-child th {\n",
       "        text-align: right;\n",
       "    }\n",
       "\n",
       "    .dataframe thead th {\n",
       "        text-align: left;\n",
       "    }\n",
       "\n",
       "    .dataframe tbody tr th {\n",
       "        vertical-align: top;\n",
       "    }\n",
       "</style>\n",
       "<table border=\"1\" class=\"dataframe\">\n",
       "  <thead>\n",
       "    <tr style=\"text-align: right;\">\n",
       "      <th></th>\n",
       "      <th>lifetime_minutes</th>\n",
       "    </tr>\n",
       "  </thead>\n",
       "  <tbody>\n",
       "    <tr>\n",
       "      <th>count</th>\n",
       "      <td>361.000000</td>\n",
       "    </tr>\n",
       "    <tr>\n",
       "      <th>mean</th>\n",
       "      <td>11.248848</td>\n",
       "    </tr>\n",
       "    <tr>\n",
       "      <th>std</th>\n",
       "      <td>44.049190</td>\n",
       "    </tr>\n",
       "    <tr>\n",
       "      <th>min</th>\n",
       "      <td>0.000694</td>\n",
       "    </tr>\n",
       "    <tr>\n",
       "      <th>25%</th>\n",
       "      <td>0.050000</td>\n",
       "    </tr>\n",
       "    <tr>\n",
       "      <th>50%</th>\n",
       "      <td>0.719444</td>\n",
       "    </tr>\n",
       "    <tr>\n",
       "      <th>75%</th>\n",
       "      <td>4.987500</td>\n",
       "    </tr>\n",
       "    <tr>\n",
       "      <th>max</th>\n",
       "      <td>547.624306</td>\n",
       "    </tr>\n",
       "  </tbody>\n",
       "</table>\n",
       "</div>"
      ],
      "text/plain": [
       "       lifetime_minutes\n",
       "count        361.000000\n",
       "mean          11.248848\n",
       "std           44.049190\n",
       "min            0.000694\n",
       "25%            0.050000\n",
       "50%            0.719444\n",
       "75%            4.987500\n",
       "max          547.624306"
      ]
     },
     "execution_count": 6,
     "metadata": {},
     "output_type": "execute_result"
    }
   ],
   "source": [
    "df.select('lifetime_minutes').\\\n",
    "    where('mergetime_minutes = 0.0 and lifetime_minutes > 0.0').\\\n",
    "    toPandas().\\\n",
    "    apply(lambda x: x / 1440).\\\n",
    "    describe()"
   ]
  },
  {
   "cell_type": "markdown",
   "metadata": {},
   "source": [
    "### Size of pull requests\n",
    "#### Number of commits"
   ]
  },
  {
   "cell_type": "code",
   "execution_count": 8,
   "metadata": {},
   "outputs": [
    {
     "data": {
      "text/html": [
       "<div>\n",
       "<style>\n",
       "    .dataframe thead tr:only-child th {\n",
       "        text-align: right;\n",
       "    }\n",
       "\n",
       "    .dataframe thead th {\n",
       "        text-align: left;\n",
       "    }\n",
       "\n",
       "    .dataframe tbody tr th {\n",
       "        vertical-align: top;\n",
       "    }\n",
       "</style>\n",
       "<table border=\"1\" class=\"dataframe\">\n",
       "  <thead>\n",
       "    <tr style=\"text-align: right;\">\n",
       "      <th></th>\n",
       "      <th>num_commits</th>\n",
       "    </tr>\n",
       "  </thead>\n",
       "  <tbody>\n",
       "    <tr>\n",
       "      <th>count</th>\n",
       "      <td>15377.000000</td>\n",
       "    </tr>\n",
       "    <tr>\n",
       "      <th>mean</th>\n",
       "      <td>4.264421</td>\n",
       "    </tr>\n",
       "    <tr>\n",
       "      <th>std</th>\n",
       "      <td>13.398812</td>\n",
       "    </tr>\n",
       "    <tr>\n",
       "      <th>min</th>\n",
       "      <td>1.000000</td>\n",
       "    </tr>\n",
       "    <tr>\n",
       "      <th>50%</th>\n",
       "      <td>2.000000</td>\n",
       "    </tr>\n",
       "    <tr>\n",
       "      <th>80%</th>\n",
       "      <td>4.000000</td>\n",
       "    </tr>\n",
       "    <tr>\n",
       "      <th>90%</th>\n",
       "      <td>8.000000</td>\n",
       "    </tr>\n",
       "    <tr>\n",
       "      <th>95%</th>\n",
       "      <td>13.000000</td>\n",
       "    </tr>\n",
       "    <tr>\n",
       "      <th>max</th>\n",
       "      <td>258.000000</td>\n",
       "    </tr>\n",
       "  </tbody>\n",
       "</table>\n",
       "</div>"
      ],
      "text/plain": [
       "        num_commits\n",
       "count  15377.000000\n",
       "mean       4.264421\n",
       "std       13.398812\n",
       "min        1.000000\n",
       "50%        2.000000\n",
       "80%        4.000000\n",
       "90%        8.000000\n",
       "95%       13.000000\n",
       "max      258.000000"
      ]
     },
     "execution_count": 8,
     "metadata": {},
     "output_type": "execute_result"
    }
   ],
   "source": [
    "df.select('num_commits').\\\n",
    "    toPandas().\\\n",
    "    describe(percentiles=[0.8, 0.9, 0.95])"
   ]
  },
  {
   "cell_type": "markdown",
   "metadata": {},
   "source": [
    "#### Files changed"
   ]
  },
  {
   "cell_type": "code",
   "execution_count": 9,
   "metadata": {},
   "outputs": [
    {
     "data": {
      "text/html": [
       "<div>\n",
       "<style>\n",
       "    .dataframe thead tr:only-child th {\n",
       "        text-align: right;\n",
       "    }\n",
       "\n",
       "    .dataframe thead th {\n",
       "        text-align: left;\n",
       "    }\n",
       "\n",
       "    .dataframe tbody tr th {\n",
       "        vertical-align: top;\n",
       "    }\n",
       "</style>\n",
       "<table border=\"1\" class=\"dataframe\">\n",
       "  <thead>\n",
       "    <tr style=\"text-align: right;\">\n",
       "      <th></th>\n",
       "      <th>files_changed</th>\n",
       "    </tr>\n",
       "  </thead>\n",
       "  <tbody>\n",
       "    <tr>\n",
       "      <th>count</th>\n",
       "      <td>15377.000000</td>\n",
       "    </tr>\n",
       "    <tr>\n",
       "      <th>mean</th>\n",
       "      <td>14.424725</td>\n",
       "    </tr>\n",
       "    <tr>\n",
       "      <th>std</th>\n",
       "      <td>56.785824</td>\n",
       "    </tr>\n",
       "    <tr>\n",
       "      <th>min</th>\n",
       "      <td>0.000000</td>\n",
       "    </tr>\n",
       "    <tr>\n",
       "      <th>50%</th>\n",
       "      <td>3.000000</td>\n",
       "    </tr>\n",
       "    <tr>\n",
       "      <th>80%</th>\n",
       "      <td>12.000000</td>\n",
       "    </tr>\n",
       "    <tr>\n",
       "      <th>90%</th>\n",
       "      <td>26.000000</td>\n",
       "    </tr>\n",
       "    <tr>\n",
       "      <th>95%</th>\n",
       "      <td>52.000000</td>\n",
       "    </tr>\n",
       "    <tr>\n",
       "      <th>max</th>\n",
       "      <td>2687.000000</td>\n",
       "    </tr>\n",
       "  </tbody>\n",
       "</table>\n",
       "</div>"
      ],
      "text/plain": [
       "       files_changed\n",
       "count   15377.000000\n",
       "mean       14.424725\n",
       "std        56.785824\n",
       "min         0.000000\n",
       "50%         3.000000\n",
       "80%        12.000000\n",
       "90%        26.000000\n",
       "95%        52.000000\n",
       "max      2687.000000"
      ]
     },
     "execution_count": 9,
     "metadata": {},
     "output_type": "execute_result"
    }
   ],
   "source": [
    "df.select('files_changed').\\\n",
    "    toPandas().\\\n",
    "    describe(percentiles=[0.8, 0.9, 0.95])"
   ]
  },
  {
   "cell_type": "markdown",
   "metadata": {},
   "source": [
    "#### Number of changed lines"
   ]
  },
  {
   "cell_type": "code",
   "execution_count": 10,
   "metadata": {},
   "outputs": [
    {
     "data": {
      "text/html": [
       "<div>\n",
       "<style>\n",
       "    .dataframe thead tr:only-child th {\n",
       "        text-align: right;\n",
       "    }\n",
       "\n",
       "    .dataframe thead th {\n",
       "        text-align: left;\n",
       "    }\n",
       "\n",
       "    .dataframe tbody tr th {\n",
       "        vertical-align: top;\n",
       "    }\n",
       "</style>\n",
       "<table border=\"1\" class=\"dataframe\">\n",
       "  <thead>\n",
       "    <tr style=\"text-align: right;\">\n",
       "      <th></th>\n",
       "      <th>src_churn</th>\n",
       "    </tr>\n",
       "  </thead>\n",
       "  <tbody>\n",
       "    <tr>\n",
       "      <th>count</th>\n",
       "      <td>290.000000</td>\n",
       "    </tr>\n",
       "    <tr>\n",
       "      <th>mean</th>\n",
       "      <td>42.493103</td>\n",
       "    </tr>\n",
       "    <tr>\n",
       "      <th>std</th>\n",
       "      <td>92.717275</td>\n",
       "    </tr>\n",
       "    <tr>\n",
       "      <th>min</th>\n",
       "      <td>1.000000</td>\n",
       "    </tr>\n",
       "    <tr>\n",
       "      <th>50%</th>\n",
       "      <td>11.000000</td>\n",
       "    </tr>\n",
       "    <tr>\n",
       "      <th>80%</th>\n",
       "      <td>48.400000</td>\n",
       "    </tr>\n",
       "    <tr>\n",
       "      <th>90%</th>\n",
       "      <td>113.500000</td>\n",
       "    </tr>\n",
       "    <tr>\n",
       "      <th>95%</th>\n",
       "      <td>192.950000</td>\n",
       "    </tr>\n",
       "    <tr>\n",
       "      <th>max</th>\n",
       "      <td>842.000000</td>\n",
       "    </tr>\n",
       "  </tbody>\n",
       "</table>\n",
       "</div>"
      ],
      "text/plain": [
       "        src_churn\n",
       "count  290.000000\n",
       "mean    42.493103\n",
       "std     92.717275\n",
       "min      1.000000\n",
       "50%     11.000000\n",
       "80%     48.400000\n",
       "90%    113.500000\n",
       "95%    192.950000\n",
       "max    842.000000"
      ]
     },
     "execution_count": 10,
     "metadata": {},
     "output_type": "execute_result"
    }
   ],
   "source": [
    "df.select('src_churn').\\\n",
    "    where('src_churn > 0.0').\\\n",
    "    toPandas().\\\n",
    "    describe(percentiles=[0.8, 0.9, 0.95])"
   ]
  },
  {
   "cell_type": "markdown",
   "metadata": {},
   "source": [
    "### Discussion and code review\n",
    "#### Comments"
   ]
  },
  {
   "cell_type": "code",
   "execution_count": 12,
   "metadata": {
    "scrolled": true
   },
   "outputs": [
    {
     "data": {
      "text/html": [
       "<div>\n",
       "<style>\n",
       "    .dataframe thead tr:only-child th {\n",
       "        text-align: right;\n",
       "    }\n",
       "\n",
       "    .dataframe thead th {\n",
       "        text-align: left;\n",
       "    }\n",
       "\n",
       "    .dataframe tbody tr th {\n",
       "        vertical-align: top;\n",
       "    }\n",
       "</style>\n",
       "<table border=\"1\" class=\"dataframe\">\n",
       "  <thead>\n",
       "    <tr style=\"text-align: right;\">\n",
       "      <th></th>\n",
       "      <th>num_comments</th>\n",
       "    </tr>\n",
       "  </thead>\n",
       "  <tbody>\n",
       "    <tr>\n",
       "      <th>count</th>\n",
       "      <td>15377.000000</td>\n",
       "    </tr>\n",
       "    <tr>\n",
       "      <th>mean</th>\n",
       "      <td>2.936073</td>\n",
       "    </tr>\n",
       "    <tr>\n",
       "      <th>std</th>\n",
       "      <td>7.941817</td>\n",
       "    </tr>\n",
       "    <tr>\n",
       "      <th>min</th>\n",
       "      <td>0.000000</td>\n",
       "    </tr>\n",
       "    <tr>\n",
       "      <th>50%</th>\n",
       "      <td>1.000000</td>\n",
       "    </tr>\n",
       "    <tr>\n",
       "      <th>80%</th>\n",
       "      <td>4.000000</td>\n",
       "    </tr>\n",
       "    <tr>\n",
       "      <th>90%</th>\n",
       "      <td>7.000000</td>\n",
       "    </tr>\n",
       "    <tr>\n",
       "      <th>95%</th>\n",
       "      <td>12.000000</td>\n",
       "    </tr>\n",
       "    <tr>\n",
       "      <th>max</th>\n",
       "      <td>240.000000</td>\n",
       "    </tr>\n",
       "  </tbody>\n",
       "</table>\n",
       "</div>"
      ],
      "text/plain": [
       "       num_comments\n",
       "count  15377.000000\n",
       "mean       2.936073\n",
       "std        7.941817\n",
       "min        0.000000\n",
       "50%        1.000000\n",
       "80%        4.000000\n",
       "90%        7.000000\n",
       "95%       12.000000\n",
       "max      240.000000"
      ]
     },
     "execution_count": 12,
     "metadata": {},
     "output_type": "execute_result"
    }
   ],
   "source": [
    "df.select('num_comments').\\\n",
    "    toPandas().\\\n",
    "    describe(percentiles=[0.8, 0.9, 0.95])"
   ]
  },
  {
   "cell_type": "markdown",
   "metadata": {},
   "source": [
    "#### Correlation between size and merge decision"
   ]
  },
  {
   "cell_type": "code",
   "execution_count": 13,
   "metadata": {},
   "outputs": [
    {
     "name": "stdout",
     "output_type": "stream",
     "text": [
      "Num Commits: 0.167528442551\n",
      "Files changed: 0.00724571354084\n",
      "Lines changed: 0.00828534249669\n"
     ]
    }
   ],
   "source": [
    "print 'Num Commits: ' + str(aux['num_commits'].corr(aux['merged'], method='spearman'))\n",
    "print 'Files changed: ' + str(aux['src_files'].corr(aux['merged'], method='spearman'))\n",
    "print 'Lines changed: ' + str(aux['src_churn'].corr(aux['merged'], method='spearman'))\n",
    "# aux['num_commits'].corr(aux['merged'], method='spearman')"
   ]
  },
  {
   "cell_type": "markdown",
   "metadata": {},
   "source": [
    "#### Correlation between number of comments and pull request"
   ]
  },
  {
   "cell_type": "code",
   "execution_count": 30,
   "metadata": {},
   "outputs": [
    {
     "name": "stdout",
     "output_type": "stream",
     "text": [
      "Merge decision: 0.335960922278\n",
      "Merge time: 0.523524975596\n"
     ]
    }
   ],
   "source": [
    "print 'Merge decision: ' + str(aux['num_comments'].corr(aux['merged'], method='spearman'))\n",
    "print 'Merge time: ' + str(aux['num_comments'].corr(aux['mergetime_minutes'], method='spearman'))"
   ]
  },
  {
   "cell_type": "markdown",
   "metadata": {},
   "source": [
    "#### How many people work on PRs?"
   ]
  },
  {
   "cell_type": "markdown",
   "metadata": {},
   "source": [
    "Not many"
   ]
  },
  {
   "cell_type": "code",
   "execution_count": 10,
   "metadata": {
    "scrolled": true
   },
   "outputs": [
    {
     "data": {
      "text/html": [
       "<div>\n",
       "<style>\n",
       "    .dataframe thead tr:only-child th {\n",
       "        text-align: right;\n",
       "    }\n",
       "\n",
       "    .dataframe thead th {\n",
       "        text-align: left;\n",
       "    }\n",
       "\n",
       "    .dataframe tbody tr th {\n",
       "        vertical-align: top;\n",
       "    }\n",
       "</style>\n",
       "<table border=\"1\" class=\"dataframe\">\n",
       "  <thead>\n",
       "    <tr style=\"text-align: right;\">\n",
       "      <th></th>\n",
       "      <th>num_participants</th>\n",
       "    </tr>\n",
       "  </thead>\n",
       "  <tbody>\n",
       "    <tr>\n",
       "      <th>count</th>\n",
       "      <td>290386.000000</td>\n",
       "    </tr>\n",
       "    <tr>\n",
       "      <th>mean</th>\n",
       "      <td>1.032302</td>\n",
       "    </tr>\n",
       "    <tr>\n",
       "      <th>std</th>\n",
       "      <td>1.312486</td>\n",
       "    </tr>\n",
       "    <tr>\n",
       "      <th>min</th>\n",
       "      <td>0.000000</td>\n",
       "    </tr>\n",
       "    <tr>\n",
       "      <th>25%</th>\n",
       "      <td>0.000000</td>\n",
       "    </tr>\n",
       "    <tr>\n",
       "      <th>50%</th>\n",
       "      <td>1.000000</td>\n",
       "    </tr>\n",
       "    <tr>\n",
       "      <th>75%</th>\n",
       "      <td>2.000000</td>\n",
       "    </tr>\n",
       "    <tr>\n",
       "      <th>max</th>\n",
       "      <td>50.000000</td>\n",
       "    </tr>\n",
       "  </tbody>\n",
       "</table>\n",
       "</div>"
      ],
      "text/plain": [
       "       num_participants\n",
       "count     290386.000000\n",
       "mean           1.032302\n",
       "std            1.312486\n",
       "min            0.000000\n",
       "25%            0.000000\n",
       "50%            1.000000\n",
       "75%            2.000000\n",
       "max           50.000000"
      ]
     },
     "execution_count": 10,
     "metadata": {},
     "output_type": "execute_result"
    }
   ],
   "source": [
    "df.select('num_participants').toPandas().describe()"
   ]
  },
  {
   "cell_type": "markdown",
   "metadata": {},
   "source": [
    "#### How many comments do PRs receive?"
   ]
  },
  {
   "cell_type": "markdown",
   "metadata": {},
   "source": [
    "A few"
   ]
  },
  {
   "cell_type": "code",
   "execution_count": 11,
   "metadata": {},
   "outputs": [
    {
     "data": {
      "text/html": [
       "<div>\n",
       "<style>\n",
       "    .dataframe thead tr:only-child th {\n",
       "        text-align: right;\n",
       "    }\n",
       "\n",
       "    .dataframe thead th {\n",
       "        text-align: left;\n",
       "    }\n",
       "\n",
       "    .dataframe tbody tr th {\n",
       "        vertical-align: top;\n",
       "    }\n",
       "</style>\n",
       "<table border=\"1\" class=\"dataframe\">\n",
       "  <thead>\n",
       "    <tr style=\"text-align: right;\">\n",
       "      <th></th>\n",
       "      <th>num_comments</th>\n",
       "    </tr>\n",
       "  </thead>\n",
       "  <tbody>\n",
       "    <tr>\n",
       "      <th>count</th>\n",
       "      <td>290386.000000</td>\n",
       "    </tr>\n",
       "    <tr>\n",
       "      <th>mean</th>\n",
       "      <td>2.410030</td>\n",
       "    </tr>\n",
       "    <tr>\n",
       "      <th>std</th>\n",
       "      <td>6.652631</td>\n",
       "    </tr>\n",
       "    <tr>\n",
       "      <th>min</th>\n",
       "      <td>0.000000</td>\n",
       "    </tr>\n",
       "    <tr>\n",
       "      <th>25%</th>\n",
       "      <td>0.000000</td>\n",
       "    </tr>\n",
       "    <tr>\n",
       "      <th>50%</th>\n",
       "      <td>0.000000</td>\n",
       "    </tr>\n",
       "    <tr>\n",
       "      <th>75%</th>\n",
       "      <td>2.000000</td>\n",
       "    </tr>\n",
       "    <tr>\n",
       "      <th>max</th>\n",
       "      <td>475.000000</td>\n",
       "    </tr>\n",
       "  </tbody>\n",
       "</table>\n",
       "</div>"
      ],
      "text/plain": [
       "        num_comments\n",
       "count  290386.000000\n",
       "mean        2.410030\n",
       "std         6.652631\n",
       "min         0.000000\n",
       "25%         0.000000\n",
       "50%         0.000000\n",
       "75%         2.000000\n",
       "max       475.000000"
      ]
     },
     "execution_count": 11,
     "metadata": {},
     "output_type": "execute_result"
    }
   ],
   "source": [
    "df.select('num_comments').toPandas().describe()"
   ]
  },
  {
   "cell_type": "markdown",
   "metadata": {},
   "source": [
    "#### How balanced is the dataset? "
   ]
  },
  {
   "cell_type": "markdown",
   "metadata": {},
   "source": [
    "It is important for our machine learning task to check whether "
   ]
  },
  {
   "cell_type": "code",
   "execution_count": 35,
   "metadata": {
    "scrolled": false
   },
   "outputs": [
    {
     "data": {
      "text/html": [
       "<div>\n",
       "<style>\n",
       "    .dataframe thead tr:only-child th {\n",
       "        text-align: right;\n",
       "    }\n",
       "\n",
       "    .dataframe thead th {\n",
       "        text-align: left;\n",
       "    }\n",
       "\n",
       "    .dataframe tbody tr th {\n",
       "        vertical-align: top;\n",
       "    }\n",
       "</style>\n",
       "<table border=\"1\" class=\"dataframe\">\n",
       "  <thead>\n",
       "    <tr style=\"text-align: right;\">\n",
       "      <th></th>\n",
       "      <th>merged</th>\n",
       "      <th>count</th>\n",
       "    </tr>\n",
       "  </thead>\n",
       "  <tbody>\n",
       "    <tr>\n",
       "      <th>0</th>\n",
       "      <td>True</td>\n",
       "      <td>13136</td>\n",
       "    </tr>\n",
       "    <tr>\n",
       "      <th>1</th>\n",
       "      <td>False</td>\n",
       "      <td>2241</td>\n",
       "    </tr>\n",
       "  </tbody>\n",
       "</table>\n",
       "</div>"
      ],
      "text/plain": [
       "   merged  count\n",
       "0    True  13136\n",
       "1   False   2241"
      ]
     },
     "execution_count": 35,
     "metadata": {},
     "output_type": "execute_result"
    }
   ],
   "source": [
    "df.groupBy('merged').count().toPandas()"
   ]
  },
  {
   "cell_type": "markdown",
   "metadata": {},
   "source": [
    "## Predicting pull request merges"
   ]
  },
  {
   "cell_type": "markdown",
   "metadata": {},
   "source": [
    "We are trying to create a predictor that given a set of _features_ (metrics about various aspects of a single PR), it will come up with a _response_ (prediction): either **True** (PR will be merged) or **False** (PR will not be merged). Our predictor is a typical binary classification task.\n",
    "\n",
    "There are various algorithms that given a set of _feature vectors_ (vectors/arrays of numerical values that correspond to our features) they will come up with a _model_ to predict an outcome. The ones we will be using are:\n",
    "\n",
    "* [Logistic regression](https://en.wikipedia.org/wiki/Logistic_regression)\n",
    "* [Linear Support Vector Machines](https://en.wikipedia.org/wiki/Support_vector_machine)\n",
    "* [Decision trees](https://en.wikipedia.org/wiki/Decision_tree)\n",
    "* [Random Forests](https://en.wikipedia.org/wiki/Random_forest)\n",
    "* [Gradient Boosting Machines](https://en.wikipedia.org/wiki/Gradient_boosting)\n",
    "\n",
    "The first step in any binary classification task is to define the features and the response variable:"
   ]
  },
  {
   "cell_type": "code",
   "execution_count": 27,
   "metadata": {
    "collapsed": true
   },
   "outputs": [],
   "source": []
  },
  {
   "cell_type": "code",
   "execution_count": 4,
   "metadata": {
    "collapsed": true
   },
   "outputs": [],
   "source": [
    "def correlation(dataset, threshold):\n",
    "    col_corr = set() # Set of all the names of deleted columns\n",
    "    corr_matrix = dataset.corr()\n",
    "    for i in range(len(corr_matrix.columns)):\n",
    "        for j in range(i):\n",
    "            if corr_matrix.iloc[i, j] >= threshold:\n",
    "                colname = corr_matrix.columns[i] # getting the name of column\n",
    "                col_corr.add(colname)\n",
    "                if colname in dataset.columns:\n",
    "                    del dataset[colname] # deleting the column from the dataset"
   ]
  },
  {
   "cell_type": "code",
   "execution_count": 5,
   "metadata": {
    "collapsed": true
   },
   "outputs": [],
   "source": [
    "def label_time (row):\n",
    "    minutes = row['mergetime_minutes']\n",
    "    if minutes < 24 * 60:\n",
    "        return 0\n",
    "    return 1"
   ]
  },
  {
   "cell_type": "code",
   "execution_count": 6,
   "metadata": {
    "collapsed": true
   },
   "outputs": [],
   "source": [
    "aux0 = deepcopy(aux)\n",
    "\n",
    "correlation(aux0, 0.7)\n",
    "\n",
    "# print aux2.columns\n",
    "feature_cols = []\n",
    "for i in range(3, len(aux0.columns)):\n",
    "    if aux0.columns[i] != 'merged' and aux0.columns[i].find(\"minute\") == -1 and aux0.columns[i] != 'first_response':\n",
    "        if aux0[aux0.columns[i]].dtype != 'object':\n",
    "            feature_cols.append(aux0.columns[i])\n",
    "\n",
    "# feature_cols = ['prior_interaction_pr_events', 'team_size', 'num_participants', 'num_issue_comments']\n",
    "\n",
    "\n",
    "response = 'merged'\n",
    "aux1 = aux.sample(15200);\n",
    "aux2 = aux.sample(15200);\n",
    "aux2['mergetime_minutes'] = aux2['mergetime_minutes'].astype(int)\n",
    "aux2['mergetime'] = aux2.apply(lambda row: label_time(row), axis = 1)\n",
    "\n",
    "df1 = sqlContext.createDataFrame(aux1);\n",
    "df2 = sqlContext.createDataFrame(aux2);\n",
    "\n",
    "# We drop any possible duplicates and cache the resulting data frame\n",
    "data = df1.select(feature_cols).dropDuplicates().cache()\n",
    "\n"
   ]
  },
  {
   "cell_type": "markdown",
   "metadata": {},
   "source": [
    "Most machine learning algorithm implementations work with numerical vectors. For this reason, we need to convert all features that are not of type `Integer` in our source data frame to numeric. Fortunately, we only have a few `Boolean` features that can be represeted as `Integer`s by assigning 1 to True values and 0 to False with a simple type cast. If we had factors (those take values from a predefined set) as features, we would need to use a `StringIndexer` on them.\n",
    "\n",
    "SparkML needs all features to be in a single vector per data point. For this, we use the `VectorAssember` transformation.\n",
    "\n",
    "SparkML makes use of pipelines to organize the application of transformations on data frames. In our case, we only need to build a pipeline that performs the `VectorAssember` step, but those pipelines can be arbitrarily large."
   ]
  },
  {
   "cell_type": "code",
   "execution_count": 7,
   "metadata": {
    "collapsed": true
   },
   "outputs": [],
   "source": [
    "from pyspark.ml.feature import VectorAssembler\n",
    "from pyspark.ml import Pipeline\n",
    "\n",
    "# All boolean columns\n",
    "boolean = ['intra_branch', 'main_team_member', \n",
    "           'social_connection', 'conflict', 'forward_links']\n",
    "boolean_out = map(lambda x: x + \"_int\", boolean)\n",
    "\n",
    "# Update the feature_cols with information about the new column names\n",
    "feature_cols = [item for item in set(feature_cols) \\\n",
    "                if item not in set(boolean)] + \\\n",
    "                boolean_out\n",
    "\n",
    "# Type cast boolean columns to Integers (convert to numeric)\n",
    "for x in boolean:\n",
    "    df1 = df1.withColumn(x + \"_int\", df1[x].cast(IntegerType()))\n",
    "    df2 = df2.withColumn(x + \"_int\", df2[x].cast(IntegerType()))\n",
    "df1 = df1.withColumn(\"merged_int\", df1['merged'].cast(IntegerType()))\n",
    "df2 = df2.withColumn(\"merged_int\", df2['merged'].cast(IntegerType()))\n",
    "\n",
    "# Convert feature columns to a numeric vector\n",
    "assembler_features = VectorAssembler(inputCols=feature_cols, \n",
    "                                     outputCol='features')\n",
    "\n",
    "# Construct and execute a pipeline, cache the results.\n",
    "pipeline = Pipeline(stages=[assembler_features])\n",
    "allData = pipeline.fit(df1).transform(df1).cache()"
   ]
  },
  {
   "cell_type": "markdown",
   "metadata": {},
   "source": [
    "After we have our data in the desirable format, we can start experimenting with machine learning algorithms. For that, we need to have 2 datasets: one to apply our algorithm on and one to test the resulting model with."
   ]
  },
  {
   "cell_type": "code",
   "execution_count": 8,
   "metadata": {},
   "outputs": [
    {
     "name": "stdout",
     "output_type": "stream",
     "text": [
      "13704\n"
     ]
    }
   ],
   "source": [
    "(trainingData, testData) = allData.randomSplit([0.9, 0.1], seed=42)\n",
    "\n",
    "print trainingData.count()"
   ]
  },
  {
   "cell_type": "markdown",
   "metadata": {},
   "source": [
    "The process of running an ML algorithm on a dataset consists of the following steps:\n",
    "\n",
    "1. Train a model\n",
    "2. Apply the trained model on the test set, collect performance metrics\n",
    "3. Tune the ML algorithm and repeat\n",
    "\n",
    "To evaluate the training (step 2), and since we are using binary classification, we need to test how well our model can predict against a ground truth included in the test set. The result of step 2 is the so called [_confusion matrix_](https://en.wikipedia.org/wiki/Confusion_matrix). The confusion matrix looks like this:\n",
    "\n",
    "|              |       |Ground truth |\n",
    "|--------------|-------|-------------|\n",
    "|              |       | True | False|\n",
    "| *Prediction* | True  | *TP* | *FP* | \n",
    "|              | False | *FN* | *TN* |\n",
    "\n",
    "\n",
    "Using this table we can come up with many metrics that capture several aspects of the classification performance, such as:\n",
    "\n",
    "$$ Precision = \\frac{TP}{TP + FP} $$\n",
    "\n",
    "$$ Recall = \\frac{TP}{TP + FN} $$\n",
    "\n",
    "$$ Accuracy = \\frac{TP + TN}{TP + FP + FN + TN} $$\n",
    "\n",
    "$$ False\\ positive\\ rate = \\frac{FP}{FP + TN} $$\n",
    "\n",
    "When predicting, most binary classification algorithms return the *probability* that a result is either true or false, rather than the actual result; depending on how strong our prediction requirements are, we need to vary the *threshold* after which we start believing a prediction. This threshold is usually set at 0.7, so if our classifier reports a probability of 0.73 for a classification result being True, we take its value as True.\n",
    "\n",
    "By varying this threshold from 0.5 to 1, we can see how strong our classifier believes its results are; we can then test them against reality (our ground truth) to see how strong they _actually_ are. To do so, we plot the classifier's recall (or True Positive Rate) against its False Positive Rate for various values of threshold. This will result in a plot (called the [Receiver Operating Characteristic](https://en.wikipedia.org/wiki/Receiver_operating_characteristic) curve) that looks like the following:"
   ]
  },
  {
   "cell_type": "markdown",
   "metadata": {},
   "source": [
    "![A ROC curve](roccurves.png)"
   ]
  },
  {
   "cell_type": "markdown",
   "metadata": {},
   "source": [
    "The area under each curve can be calculated; this results in a composite metric (Area Under the (ROC) Curve) that describes the predictive power of our classifier against a random classifier. AUC enables comparisons of classifiers with each other and is especially useful as a metric in case of unbalanced datasets, as in our case.\n",
    "\n",
    "For our purposes, we will be using the AUC metric."
   ]
  },
  {
   "cell_type": "code",
   "execution_count": 10,
   "metadata": {
    "collapsed": true
   },
   "outputs": [],
   "source": [
    "from pyspark.ml.evaluation import BinaryClassificationEvaluator\n",
    "\n",
    "## Calculate and return the AUC metric\n",
    "def evaluate(testData, predictions):\n",
    "    evaluator = BinaryClassificationEvaluator(labelCol=\"merged_int\", \n",
    "                                              rawPredictionCol=\"rawPrediction\")\n",
    "    print \"AUC: %f\" % evaluator.evaluate(predictions)"
   ]
  },
  {
   "cell_type": "markdown",
   "metadata": {},
   "source": [
    "## Merge decision"
   ]
  },
  {
   "cell_type": "markdown",
   "metadata": {},
   "source": [
    "### Logistic regression"
   ]
  },
  {
   "cell_type": "markdown",
   "metadata": {},
   "source": [
    "As with other regressions, binary logistic regression does polynomial fiting: it attempts to compute the co-efficients $a$ and $b$ and the intercept $c$ of a polynomial of the form $y = ax_1 + bx_2+ c$, where $x_1, x_2$ and $y$ come from the training data, in order to maximize a training criterion (the workings under the hood are very different though). \n",
    "\n",
    "With default settings, it does a terrible job on our dataset, with an AUC of 0.5."
   ]
  },
  {
   "cell_type": "code",
   "execution_count": 20,
   "metadata": {},
   "outputs": [
    {
     "name": "stdout",
     "output_type": "stream",
     "text": [
      "AUC: 0.500000\n"
     ]
    }
   ],
   "source": [
    "from pyspark.ml.classification import LogisticRegression\n",
    "\n",
    "lr = LogisticRegression(maxIter=10, regParam=0.3, \n",
    "                        elasticNetParam=0.8 ,labelCol=\"merged_int\")\n",
    "\n",
    "lrModel = lr.fit(trainingData)\n",
    "evaluate(testData, lrModel.transform(testData))"
   ]
  },
  {
   "cell_type": "markdown",
   "metadata": {},
   "source": [
    "### Linear Support Vector Machine"
   ]
  },
  {
   "cell_type": "markdown",
   "metadata": {},
   "source": [
    "SVMs attempt to partition datasets using hyperplanes in a way that dataset points are as far as possible in high-dimentional spaces."
   ]
  },
  {
   "cell_type": "code",
   "execution_count": 21,
   "metadata": {},
   "outputs": [
    {
     "name": "stdout",
     "output_type": "stream",
     "text": [
      "AUC: 0.807587\n"
     ]
    }
   ],
   "source": [
    "from pyspark.ml.classification import LinearSVC\n",
    "\n",
    "lsvc = LinearSVC(maxIter=10, regParam=0.1,labelCol=\"merged_int\")\n",
    "\n",
    "lsvcModel = lsvc.fit(trainingData)\n",
    "evaluate(testData, lsvcModel.transform(testData))"
   ]
  },
  {
   "cell_type": "markdown",
   "metadata": {},
   "source": [
    "### Decision tree"
   ]
  },
  {
   "cell_type": "markdown",
   "metadata": {},
   "source": [
    "A decision (classification) tree is a tree structure where intermediate nodes represent a decision that partitions the data while leafs represent a classification class. Decision trees are easy to train and very intuitive to interpret, as they mimic human decision making. Unfortunately though they tend to overfit (especially if we allow them to grow to very big depths) and not robust against data variation.\n",
    "\n",
    "On our dataset, they perform rather well."
   ]
  },
  {
   "cell_type": "code",
   "execution_count": 22,
   "metadata": {},
   "outputs": [
    {
     "name": "stdout",
     "output_type": "stream",
     "text": [
      "AUC: 0.836371\n"
     ]
    }
   ],
   "source": [
    "from pyspark.ml.classification import DecisionTreeClassifier\n",
    "\n",
    "dt = DecisionTreeClassifier(labelCol=\"merged_int\")\n",
    "\n",
    "dtModel = dt.fit(trainingData)\n",
    "evaluate(testData, dtModel.transform(testData))"
   ]
  },
  {
   "cell_type": "markdown",
   "metadata": {},
   "source": [
    "### Random Forests"
   ]
  },
  {
   "cell_type": "markdown",
   "metadata": {},
   "source": [
    "Random forests work by building many decision trees. For buildingeach tree, a (configurable) number of features is selected randomly, while the trees are grown up to a (configurable) depth. Then, at prediction time, all trees are asked about their \"opinion\" on the input feature values, and the majority vote wins.\n",
    "\n",
    "RF are a very easy algorithm to train and default values usually lead to good perfomance out of the box."
   ]
  },
  {
   "cell_type": "code",
   "execution_count": 26,
   "metadata": {
    "scrolled": true
   },
   "outputs": [
    {
     "name": "stdout",
     "output_type": "stream",
     "text": [
      "AUC: 0.908029\n"
     ]
    }
   ],
   "source": [
    "from pyspark.ml.classification import RandomForestClassifier as RF\n",
    "from pyspark.ml.evaluation import BinaryClassificationEvaluator\n",
    "\n",
    "rf = RF(labelCol='merged_int', featuresCol='features', \n",
    "        numTrees=100, maxDepth=5)\n",
    "rfModel = rf.fit(trainingData)\n",
    "evaluate(testData, rfModel.transform(testData))"
   ]
  },
  {
   "cell_type": "markdown",
   "metadata": {},
   "source": [
    "One particularly interesting property of tree ensemble methods, such as random forests, is that they provide us with an indication of which factors are most influential whed doing a classification. "
   ]
  },
  {
   "cell_type": "code",
   "execution_count": 25,
   "metadata": {},
   "outputs": [
    {
     "data": {
      "text/html": [
       "<div>\n",
       "<style>\n",
       "    .dataframe thead tr:only-child th {\n",
       "        text-align: right;\n",
       "    }\n",
       "\n",
       "    .dataframe thead th {\n",
       "        text-align: left;\n",
       "    }\n",
       "\n",
       "    .dataframe tbody tr th {\n",
       "        vertical-align: top;\n",
       "    }\n",
       "</style>\n",
       "<table border=\"1\" class=\"dataframe\">\n",
       "  <thead>\n",
       "    <tr style=\"text-align: right;\">\n",
       "      <th></th>\n",
       "      <th>feature</th>\n",
       "      <th>importance</th>\n",
       "    </tr>\n",
       "  </thead>\n",
       "  <tbody>\n",
       "    <tr>\n",
       "      <th>34</th>\n",
       "      <td>prior_interaction_pr_events</td>\n",
       "      <td>0.162591</td>\n",
       "    </tr>\n",
       "    <tr>\n",
       "      <th>26</th>\n",
       "      <td>num_participants</td>\n",
       "      <td>0.151652</td>\n",
       "    </tr>\n",
       "    <tr>\n",
       "      <th>36</th>\n",
       "      <td>num_issue_comments</td>\n",
       "      <td>0.104620</td>\n",
       "    </tr>\n",
       "    <tr>\n",
       "      <th>16</th>\n",
       "      <td>stars</td>\n",
       "      <td>0.096960</td>\n",
       "    </tr>\n",
       "    <tr>\n",
       "      <th>9</th>\n",
       "      <td>prior_interaction_issue_events</td>\n",
       "      <td>0.052479</td>\n",
       "    </tr>\n",
       "    <tr>\n",
       "      <th>20</th>\n",
       "      <td>prior_interaction_issue_comments</td>\n",
       "      <td>0.047444</td>\n",
       "    </tr>\n",
       "    <tr>\n",
       "      <th>22</th>\n",
       "      <td>prior_interaction_pr_comments</td>\n",
       "      <td>0.044977</td>\n",
       "    </tr>\n",
       "    <tr>\n",
       "      <th>10</th>\n",
       "      <td>test_lines</td>\n",
       "      <td>0.039904</td>\n",
       "    </tr>\n",
       "    <tr>\n",
       "      <th>6</th>\n",
       "      <td>description_length</td>\n",
       "      <td>0.037093</td>\n",
       "    </tr>\n",
       "    <tr>\n",
       "      <th>37</th>\n",
       "      <td>prior_interaction_commits</td>\n",
       "      <td>0.033226</td>\n",
       "    </tr>\n",
       "  </tbody>\n",
       "</table>\n",
       "</div>"
      ],
      "text/plain": [
       "                             feature  importance\n",
       "34       prior_interaction_pr_events    0.162591\n",
       "26                  num_participants    0.151652\n",
       "36                num_issue_comments    0.104620\n",
       "16                             stars    0.096960\n",
       "9     prior_interaction_issue_events    0.052479\n",
       "20  prior_interaction_issue_comments    0.047444\n",
       "22     prior_interaction_pr_comments    0.044977\n",
       "10                        test_lines    0.039904\n",
       "6                 description_length    0.037093\n",
       "37         prior_interaction_commits    0.033226"
      ]
     },
     "execution_count": 25,
     "metadata": {},
     "output_type": "execute_result"
    }
   ],
   "source": [
    "pd.DataFrame(data=zip(feature_cols, rfModel.featureImportances), \n",
    "             columns=(\"feature\", \"importance\")).\\\n",
    "            sort_values(\"importance\", ascending=False).\\\n",
    "            head(n = 10)"
   ]
  },
  {
   "cell_type": "markdown",
   "metadata": {},
   "source": [
    "### Gradient boosting"
   ]
  },
  {
   "cell_type": "markdown",
   "metadata": {},
   "source": [
    "Boosting refers to a general class of algorithms that try create strong predictors using ensembles of weak ones (e.g. decision trees). After training a weak classifier, boosting algorithms will weight training examples in a way that will favour those that were misclassifed by the current ensemble. Thus, new weak classifiers will be using more training data that were misclassified.\n",
    "\n",
    "Gradient boosting is a form of boosting that uses [gradient decent](https://en.wikipedia.org/wiki/Gradient_boosting) as an optimization method and stopping criterium."
   ]
  },
  {
   "cell_type": "code",
   "execution_count": 73,
   "metadata": {},
   "outputs": [
    {
     "name": "stdout",
     "output_type": "stream",
     "text": [
      "AUC: 0.862469\n"
     ]
    }
   ],
   "source": [
    "from pyspark.ml.classification import GBTClassifier\n",
    "\n",
    "gbt = GBTClassifier(maxIter=10, maxDepth=5, \n",
    "                    labelCol=\"merged_int\", seed=42)\n",
    "gbtModel = gbt.fit(trainingData)\n",
    "evaluate(testData, gbtModel.transform(testData))"
   ]
  },
  {
   "cell_type": "code",
   "execution_count": 56,
   "metadata": {},
   "outputs": [
    {
     "data": {
      "text/html": [
       "<div>\n",
       "<style>\n",
       "    .dataframe thead tr:only-child th {\n",
       "        text-align: right;\n",
       "    }\n",
       "\n",
       "    .dataframe thead th {\n",
       "        text-align: left;\n",
       "    }\n",
       "\n",
       "    .dataframe tbody tr th {\n",
       "        vertical-align: top;\n",
       "    }\n",
       "</style>\n",
       "<table border=\"1\" class=\"dataframe\">\n",
       "  <thead>\n",
       "    <tr style=\"text-align: right;\">\n",
       "      <th></th>\n",
       "      <th>feature</th>\n",
       "      <th>importance</th>\n",
       "    </tr>\n",
       "  </thead>\n",
       "  <tbody>\n",
       "    <tr>\n",
       "      <th>33</th>\n",
       "      <td>prior_interaction_pr_events</td>\n",
       "      <td>0.155641</td>\n",
       "    </tr>\n",
       "    <tr>\n",
       "      <th>5</th>\n",
       "      <td>description_length</td>\n",
       "      <td>0.095948</td>\n",
       "    </tr>\n",
       "    <tr>\n",
       "      <th>0</th>\n",
       "      <td>team_size</td>\n",
       "      <td>0.087230</td>\n",
       "    </tr>\n",
       "    <tr>\n",
       "      <th>25</th>\n",
       "      <td>num_participants</td>\n",
       "      <td>0.069822</td>\n",
       "    </tr>\n",
       "    <tr>\n",
       "      <th>38</th>\n",
       "      <td>social_connection_int</td>\n",
       "      <td>0.062853</td>\n",
       "    </tr>\n",
       "    <tr>\n",
       "      <th>35</th>\n",
       "      <td>num_issue_comments</td>\n",
       "      <td>0.058130</td>\n",
       "    </tr>\n",
       "    <tr>\n",
       "      <th>9</th>\n",
       "      <td>test_lines</td>\n",
       "      <td>0.052535</td>\n",
       "    </tr>\n",
       "    <tr>\n",
       "      <th>15</th>\n",
       "      <td>stars</td>\n",
       "      <td>0.043957</td>\n",
       "    </tr>\n",
       "    <tr>\n",
       "      <th>24</th>\n",
       "      <td>workload</td>\n",
       "      <td>0.040380</td>\n",
       "    </tr>\n",
       "    <tr>\n",
       "      <th>37</th>\n",
       "      <td>main_team_member_int</td>\n",
       "      <td>0.040031</td>\n",
       "    </tr>\n",
       "  </tbody>\n",
       "</table>\n",
       "</div>"
      ],
      "text/plain": [
       "                        feature  importance\n",
       "33  prior_interaction_pr_events    0.155641\n",
       "5            description_length    0.095948\n",
       "0                     team_size    0.087230\n",
       "25             num_participants    0.069822\n",
       "38        social_connection_int    0.062853\n",
       "35           num_issue_comments    0.058130\n",
       "9                    test_lines    0.052535\n",
       "15                        stars    0.043957\n",
       "24                     workload    0.040380\n",
       "37         main_team_member_int    0.040031"
      ]
     },
     "execution_count": 56,
     "metadata": {},
     "output_type": "execute_result"
    }
   ],
   "source": [
    "pd.DataFrame(data=zip(feature_cols, gbtModel.featureImportances), \n",
    "             columns=(\"feature\", \"importance\")).\\\n",
    "            sort_values(\"importance\", ascending=False).\\\n",
    "            head(n = 10)"
   ]
  },
  {
   "cell_type": "markdown",
   "metadata": {},
   "source": [
    "## Merge time"
   ]
  },
  {
   "cell_type": "code",
   "execution_count": 38,
   "metadata": {},
   "outputs": [
    {
     "name": "stdout",
     "output_type": "stream",
     "text": [
      "15200\n"
     ]
    }
   ],
   "source": [
    "data = df2.select(feature_cols).dropDuplicates().cache()\n",
    "pipeline = Pipeline(stages=[assembler_features])\n",
    "allData = pipeline.fit(df2).transform(df2).cache()\n",
    "(trainingData, testData) = allData.randomSplit([0.9, 0.1], seed=42)\n",
    "\n",
    "print allData.count()"
   ]
  },
  {
   "cell_type": "code",
   "execution_count": 26,
   "metadata": {},
   "outputs": [
    {
     "name": "stdout",
     "output_type": "stream",
     "text": [
      "['team_size', 'test_churn_open', 'requester_succ_rate', 'num_commit_comments_open', 'files_modified_open', 'files_deleted', 'new_entropy', 'description_length', 'commits_on_files_touched', 'perc_external_contribs', 'prior_interaction_issue_events', 'test_lines', 'num_comments', 'at_mentions_description', 'doc_files_open', 'files_deleted_open', 'prior_interaction_commit_comments', 'followers', 'stars', 'sloc', 'num_pr_comments', 'test_cases', 'files_changed_open', 'num_issue_comments', 'prior_interaction_issue_comments', 'other_files_open', 'github_id', 'prior_interaction_pr_comments', 'prev_pullreqs', 'tests_deleted_open', 'workload', 'num_participants', 'files_added_open', 'num_commits', 'entropy_diff', 'hotness', 'src_files_open', 'at_mentions_comments', 'test_churn', 'num_commit_comments', 'asserts', 'prior_interaction_pr_events', 'src_churn_open', 'tests_added_open', 'prior_interaction_commits', 'intra_branch_int', 'main_team_member_int', 'social_connection_int', 'conflict_int', 'forward_links_int']\n"
     ]
    }
   ],
   "source": [
    "print feature_cols"
   ]
  },
  {
   "cell_type": "markdown",
   "metadata": {},
   "source": [
    "### Logistic Regression"
   ]
  },
  {
   "cell_type": "code",
   "execution_count": 39,
   "metadata": {},
   "outputs": [
    {
     "name": "stdout",
     "output_type": "stream",
     "text": [
      "AUC: 0.500000\n"
     ]
    }
   ],
   "source": [
    "from pyspark.ml.classification import LogisticRegression\n",
    "\n",
    "lr = LogisticRegression(maxIter=10, regParam=0.3, \n",
    "                        elasticNetParam=0.8 ,labelCol=\"mergetime\")\n",
    "\n",
    "lrModel = lr.fit(trainingData)\n",
    "evaluate(testData, lrModel.transform(testData))"
   ]
  },
  {
   "cell_type": "markdown",
   "metadata": {},
   "source": [
    "### Linear Support Vector Machines"
   ]
  },
  {
   "cell_type": "code",
   "execution_count": 40,
   "metadata": {},
   "outputs": [
    {
     "name": "stdout",
     "output_type": "stream",
     "text": [
      "AUC: 0.825126\n"
     ]
    }
   ],
   "source": [
    "from pyspark.ml.classification import LinearSVC\n",
    "\n",
    "lsvc = LinearSVC(maxIter=10, regParam=0.1,labelCol=\"mergetime\")\n",
    "\n",
    "lsvcModel = lsvc.fit(trainingData)\n",
    "evaluate(testData, lsvcModel.transform(testData))"
   ]
  },
  {
   "cell_type": "markdown",
   "metadata": {},
   "source": [
    "### Decision tree"
   ]
  },
  {
   "cell_type": "code",
   "execution_count": 34,
   "metadata": {},
   "outputs": [
    {
     "name": "stdout",
     "output_type": "stream",
     "text": [
      "AUC: 0.688113\n"
     ]
    }
   ],
   "source": [
    "from pyspark.ml.classification import DecisionTreeClassifier\n",
    "\n",
    "dt = DecisionTreeClassifier(labelCol=\"mergetime\")\n",
    "\n",
    "dtModel = dt.fit(trainingData)\n",
    "evaluate(testData, dtModel.transform(testData))"
   ]
  },
  {
   "cell_type": "markdown",
   "metadata": {},
   "source": [
    "### Random forests"
   ]
  },
  {
   "cell_type": "code",
   "execution_count": 41,
   "metadata": {},
   "outputs": [
    {
     "name": "stdout",
     "output_type": "stream",
     "text": [
      "AUC: 0.855543\n"
     ]
    }
   ],
   "source": [
    "from pyspark.ml.classification import RandomForestClassifier as RF\n",
    "from pyspark.ml.evaluation import BinaryClassificationEvaluator\n",
    "\n",
    "rf = RF(labelCol='mergetime', featuresCol='features', \n",
    "        numTrees=100, maxDepth=5)\n",
    "rfModel = rf.fit(trainingData)\n",
    "evaluate(testData, rfModel.transform(testData))"
   ]
  },
  {
   "cell_type": "code",
   "execution_count": 42,
   "metadata": {},
   "outputs": [
    {
     "data": {
      "text/html": [
       "<div>\n",
       "<style>\n",
       "    .dataframe thead tr:only-child th {\n",
       "        text-align: right;\n",
       "    }\n",
       "\n",
       "    .dataframe thead th {\n",
       "        text-align: left;\n",
       "    }\n",
       "\n",
       "    .dataframe tbody tr th {\n",
       "        vertical-align: top;\n",
       "    }\n",
       "</style>\n",
       "<table border=\"1\" class=\"dataframe\">\n",
       "  <thead>\n",
       "    <tr style=\"text-align: right;\">\n",
       "      <th></th>\n",
       "      <th>feature</th>\n",
       "      <th>importance</th>\n",
       "    </tr>\n",
       "  </thead>\n",
       "  <tbody>\n",
       "    <tr>\n",
       "      <th>36</th>\n",
       "      <td>num_issue_comments</td>\n",
       "      <td>0.198043</td>\n",
       "    </tr>\n",
       "    <tr>\n",
       "      <th>26</th>\n",
       "      <td>num_participants</td>\n",
       "      <td>0.193517</td>\n",
       "    </tr>\n",
       "    <tr>\n",
       "      <th>18</th>\n",
       "      <td>num_pr_comments</td>\n",
       "      <td>0.119250</td>\n",
       "    </tr>\n",
       "    <tr>\n",
       "      <th>32</th>\n",
       "      <td>at_mentions_comments</td>\n",
       "      <td>0.082843</td>\n",
       "    </tr>\n",
       "    <tr>\n",
       "      <th>25</th>\n",
       "      <td>workload</td>\n",
       "      <td>0.074615</td>\n",
       "    </tr>\n",
       "    <tr>\n",
       "      <th>28</th>\n",
       "      <td>num_commits</td>\n",
       "      <td>0.047576</td>\n",
       "    </tr>\n",
       "    <tr>\n",
       "      <th>24</th>\n",
       "      <td>tests_deleted_open</td>\n",
       "      <td>0.024480</td>\n",
       "    </tr>\n",
       "    <tr>\n",
       "      <th>34</th>\n",
       "      <td>prior_interaction_pr_events</td>\n",
       "      <td>0.023554</td>\n",
       "    </tr>\n",
       "    <tr>\n",
       "      <th>2</th>\n",
       "      <td>requester_succ_rate</td>\n",
       "      <td>0.022734</td>\n",
       "    </tr>\n",
       "    <tr>\n",
       "      <th>6</th>\n",
       "      <td>description_length</td>\n",
       "      <td>0.022336</td>\n",
       "    </tr>\n",
       "  </tbody>\n",
       "</table>\n",
       "</div>"
      ],
      "text/plain": [
       "                        feature  importance\n",
       "36           num_issue_comments    0.198043\n",
       "26             num_participants    0.193517\n",
       "18              num_pr_comments    0.119250\n",
       "32         at_mentions_comments    0.082843\n",
       "25                     workload    0.074615\n",
       "28                  num_commits    0.047576\n",
       "24           tests_deleted_open    0.024480\n",
       "34  prior_interaction_pr_events    0.023554\n",
       "2           requester_succ_rate    0.022734\n",
       "6            description_length    0.022336"
      ]
     },
     "execution_count": 42,
     "metadata": {},
     "output_type": "execute_result"
    }
   ],
   "source": [
    "pd.DataFrame(data=zip(feature_cols, rfModel.featureImportances), \n",
    "             columns=(\"feature\", \"importance\")).\\\n",
    "            sort_values(\"importance\", ascending=False).\\\n",
    "            head(n = 10)"
   ]
  },
  {
   "cell_type": "markdown",
   "metadata": {},
   "source": [
    "## Optimising hyper parameters"
   ]
  },
  {
   "cell_type": "markdown",
   "metadata": {},
   "source": [
    "As we have seen already, most algorithms contain many knobs (configuration parameters) that we can use to tune the model building. Those are often called _hyper parameters_. To tune them in a systematic manner, Spark ML offers a tool called `Grid` that accepts value ranges for all hyper parameters.\n",
    "\n",
    "For algorithms that are not robust against overfitting (building a model that predicts very well the training set but fails to generalize), for example decision trees, it is often advisable to train it on various instances of the training set and report average precision/recall/F1/AUC scores. This process is called _cross-validation_. In typical random selection $k$-fold cross validation, the algorith will randomly sample the dataset $k$ times (usually 80%/20% for training and evaluation data), build a model and evaluate it on the remaining training data. Cross validation can also be used as a guard against overfiting when trying to find the optimal model when doing hyper-parameter optimization.\n",
    "\n",
    "In the following snippet we attempt to improve our decision tree model by tuning several parameters. As we can see, the defaults are pretty ok as we only achieve marginal improvement."
   ]
  },
  {
   "cell_type": "code",
   "execution_count": 32,
   "metadata": {
    "collapsed": true
   },
   "outputs": [],
   "source": [
    "from pyspark.ml.tuning import ParamGridBuilder, CrossValidator\n",
    "\n",
    "paramGrid = (ParamGridBuilder()\n",
    "             .addGrid(dt.maxDepth, [4, 8])\n",
    "             .addGrid(dt.maxBins, [16, 32, 64])\n",
    "             .addGrid(dt.minInstancesPerNode, [1, 2],)\n",
    "             .build())\n",
    "\n",
    "evaluator = BinaryClassificationEvaluator(labelCol=\"merged_int\",\n",
    "                                          rawPredictionCol=\"rawPrediction\")\n",
    "cv = CrossValidator(estimator=dt, \n",
    "                    estimatorParamMaps=paramGrid, \n",
    "                    evaluator=evaluator, numFolds=3)\n",
    "cvModel = cv.fit(trainingData)"
   ]
  },
  {
   "cell_type": "code",
   "execution_count": 33,
   "metadata": {},
   "outputs": [
    {
     "name": "stdout",
     "output_type": "stream",
     "text": [
      "AUC: 0.791859\n"
     ]
    }
   ],
   "source": [
    "evaluate(testData, cvModel.transform(testData))"
   ]
  },
  {
   "cell_type": "code",
   "execution_count": 34,
   "metadata": {},
   "outputs": [
    {
     "data": {
      "text/plain": [
       "DecisionTreeClassificationModel (uid=DecisionTreeClassifier_4371ae808e87c17e3c9b) of depth 8 with 169 nodes"
      ]
     },
     "execution_count": 34,
     "metadata": {},
     "output_type": "execute_result"
    }
   ],
   "source": [
    "cvModel.bestModel"
   ]
  },
  {
   "cell_type": "markdown",
   "metadata": {},
   "source": [
    "## Improving prediction of minority case"
   ]
  },
  {
   "cell_type": "markdown",
   "metadata": {},
   "source": [
    "The AUC metric, while comprehensive, tells us half the truth about the prediction performance. As we can see below, the best algorithm (GBT) consistently mispredicts the `merged = False` case, even though it does a good job with the `True` case. This probably happens because the classifier overfits to the majority case (`merged = True` in our case)."
   ]
  },
  {
   "cell_type": "code",
   "execution_count": 30,
   "metadata": {
    "scrolled": true
   },
   "outputs": [
    {
     "name": "stdout",
     "output_type": "stream",
     "text": [
      "SVM missprediction rate: False: 100.000000, True: 0.001285\n",
      "RF missprediction rate: False: 85.828935, True: 1.278559\n",
      "GBT missprediction rate: False: 70.999928, True: 3.000437\n",
      "CVModel missprediction rate: False: 73.689538, True: 2.821824\n"
     ]
    }
   ],
   "source": [
    "def missprediction_rate(model, testData):\n",
    "    predictions = model.transform(testData)\n",
    "    predictions = predictions.\\\n",
    "        select(predictions.merged_int.cast(\"double\").alias('ground_truth'), \\\n",
    "               'prediction')\n",
    "\n",
    "    true_predictions = predictions.\\\n",
    "                       where(predictions.ground_truth == 1.0).\\\n",
    "                       count()\n",
    "    false_predictions = predictions.\\\n",
    "                        where(predictions.ground_truth == 0.0).\\\n",
    "                        count()\n",
    "    true_misspredictions = predictions.\\\n",
    "                          where(predictions.ground_truth != predictions.prediction).\\\n",
    "                          where(predictions.ground_truth == 1.0).\\\n",
    "                          count()\n",
    "    false_misspredictions = predictions.\\\n",
    "                            where(predictions.ground_truth != predictions.prediction).\\\n",
    "                            where(predictions.ground_truth == 0.0).\\\n",
    "                            count()\n",
    "\n",
    "    return ((float(false_misspredictions) / false_predictions) * 100),\\\n",
    "        ((float(true_misspredictions) / true_predictions) * 100)\n",
    "\n",
    "print \"SVM missprediction rate: False: %f, True: %f\" % \\\n",
    "        missprediction_rate(lsvcModel, testData)\n",
    "print \"RF missprediction rate: False: %f, True: %f\" % \\\n",
    "        missprediction_rate(rfModel, testData)\n",
    "print \"GBT missprediction rate: False: %f, True: %f\" % \\\n",
    "        missprediction_rate(gbtModel, testData)\n",
    "print \"CVModel missprediction rate: False: %f, True: %f\" % \\\n",
    "        missprediction_rate(cvModel, testData)"
   ]
  },
  {
   "cell_type": "markdown",
   "metadata": {},
   "source": [
    "One solution to this problem is to 'penalize' the classifier learning by removing datapoints during learning. Specifically, we will keep all the minority class items and subsample our majority class to 2x the number of the majority class items."
   ]
  },
  {
   "cell_type": "code",
   "execution_count": 31,
   "metadata": {
    "collapsed": true
   },
   "outputs": [],
   "source": [
    "minority_class = allData.where(allData.merged_int == 0)\n",
    "majority_class = allData.where(allData.merged_int != 0).\\\n",
    "    sample(False, 0.5).\\\n",
    "    limit(minority_class.count() * 2)\n",
    "\n",
    "balancedAllData = minority_class.union(majority_class)\n",
    "(balancedTrainingData, balancedTestData) = \\\n",
    "        balancedAllData.randomSplit([0.9, 0.1], seed=42)"
   ]
  },
  {
   "cell_type": "markdown",
   "metadata": {},
   "source": [
    "Next, we retrain RF on our balanced dataset. What we see is that while the AUC is roughly the same, the missprediction rate has been vastly improved in the `False` case, while became only slightly worse in the `True` case."
   ]
  },
  {
   "cell_type": "code",
   "execution_count": 32,
   "metadata": {},
   "outputs": [
    {
     "name": "stdout",
     "output_type": "stream",
     "text": [
      "AUC: 0.783390\n",
      "Balanced RF missprediction rate: False: 64.615050, True: 6.347009\n"
     ]
    }
   ],
   "source": [
    "balancedRfModel = rf.fit(balancedTrainingData)\n",
    "evaluate(balancedTestData, balancedRfModel.transform(balancedTestData))\n",
    "\n",
    "print \"Balanced RF missprediction rate: False: %f, True: %f\" %\\\n",
    "    missprediction_rate(balancedRfModel, balancedTestData)"
   ]
  },
  {
   "cell_type": "markdown",
   "metadata": {},
   "source": [
    "For completeness, we also train a GBT classifier on the balanced dataset. The results are the same as in the RF case."
   ]
  },
  {
   "cell_type": "code",
   "execution_count": 33,
   "metadata": {},
   "outputs": [
    {
     "name": "stdout",
     "output_type": "stream",
     "text": [
      "AUC: 0.795024\n",
      "Balanced GBT missprediction rate: False: 54.965927, True: 8.678860\n"
     ]
    }
   ],
   "source": [
    "balancedGBTModel = gbt.fit(balancedTrainingData)\n",
    "evaluate(balancedTestData, balancedGBTModel.transform(balancedTestData))\n",
    "\n",
    "print \"Balanced GBT missprediction rate: False: %f, True: %f\" %\\\n",
    "    missprediction_rate(balancedGBTModel, balancedTestData)"
   ]
  },
  {
   "cell_type": "markdown",
   "metadata": {},
   "source": [
    "The answer to the question of whether to use the default model or the balanced one boils down to priorities: do we care about the False case, even if it is relatively rare?"
   ]
  }
 ],
 "metadata": {
  "kernelspec": {
   "display_name": "Python 2",
   "language": "python",
   "name": "python2"
  },
  "language_info": {
   "codemirror_mode": {
    "name": "ipython",
    "version": 2
   },
   "file_extension": ".py",
   "mimetype": "text/x-python",
   "name": "python",
   "nbconvert_exporter": "python",
   "pygments_lexer": "ipython2",
   "version": "2.7.13"
  }
 },
 "nbformat": 4,
 "nbformat_minor": 2
}
